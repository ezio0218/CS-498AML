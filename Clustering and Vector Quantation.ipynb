{
 "cells": [
  {
   "cell_type": "code",
   "execution_count": 1,
   "metadata": {},
   "outputs": [],
   "source": [
    "import os\n",
    "import pandas as pd\n",
    "import numpy as np\n",
    "from sklearn.cluster import KMeans\n",
    "import matplotlib.pyplot as plt\n",
    "import random\n",
    "from sklearn.model_selection import train_test_split\n",
    "from sklearn.neighbors import KNeighborsClassifier  \n",
    "from sklearn.ensemble import RandomForestClassifier"
   ]
  },
  {
   "cell_type": "code",
   "execution_count": 2,
   "metadata": {},
   "outputs": [],
   "source": [
    "def get_total_file():\n",
    "    file_list1 = []\n",
    "    file_list2 = []\n",
    "    file_list3 = []\n",
    "    file_list4 = []\n",
    "    file_list5 = []\n",
    "    file_list6 = []\n",
    "    file_list7 = []\n",
    "    file_list8 = []\n",
    "    file_list9 = []\n",
    "    file_list10 = []\n",
    "    file_list11 = []\n",
    "    file_list12 = []\n",
    "    file_list13 = []\n",
    "    file_list14 = []\n",
    "    for root, dirs, files in os.walk(\"HMP_DataSet/Brush_teeth\"):  \n",
    "        for filename in files:\n",
    "            file_list1.append(\"HMP_DataSet/Brush_teeth/\" + filename)\n",
    "    for root, dirs, files in os.walk(\"HMP_DataSet/Climb_stairs\"):  \n",
    "        for filename in files:\n",
    "            file_list2.append(\"HMP_DataSet/Climb_stairs/\" + filename)\n",
    "    for root, dirs, files in os.walk(\"HMP_DataSet/Comb_hair\"):  \n",
    "        for filename in files:\n",
    "            file_list3.append(\"HMP_DataSet/Comb_hair/\" + filename)\n",
    "    for root, dirs, files in os.walk(\"HMP_DataSet/Descend_stairs\"):  \n",
    "        for filename in files:\n",
    "            file_list4.append(\"HMP_DataSet/Descend_stairs/\" + filename)\n",
    "    for root, dirs, files in os.walk(\"HMP_DataSet/Drink_glass\"):  \n",
    "        for filename in files:\n",
    "            file_list5.append(\"HMP_DataSet/Drink_glass/\" + filename)\n",
    "    for root, dirs, files in os.walk(\"HMP_DataSet/Eat_meat\"):  \n",
    "        for filename in files:\n",
    "            file_list6.append(\"HMP_DataSet/Eat_meat/\" + filename)\n",
    "    for root, dirs, files in os.walk(\"HMP_DataSet/Eat_soup\"):  \n",
    "        for filename in files:\n",
    "            file_list7.append(\"HMP_DataSet/Eat_soup/\" + filename)\n",
    "    for root, dirs, files in os.walk(\"HMP_DataSet/Getup_bed\"):  \n",
    "        for filename in files:\n",
    "            file_list8.append(\"HMP_DataSet/Getup_bed/\" + filename)\n",
    "    for root, dirs, files in os.walk(\"HMP_DataSet/Liedown_bed\"):  \n",
    "        for filename in files:\n",
    "            file_list9.append(\"HMP_DataSet/Liedown_bed/\" + filename)\n",
    "    for root, dirs, files in os.walk(\"HMP_DataSet/Pour_water\"):  \n",
    "        for filename in files:\n",
    "            file_list10.append(\"HMP_DataSet/Pour_water/\" + filename)\n",
    "    for root, dirs, files in os.walk(\"HMP_DataSet/Sitdown_chair\"):  \n",
    "        for filename in files:\n",
    "            file_list11.append(\"HMP_DataSet/Sitdown_chair/\" + filename)\n",
    "    for root, dirs, files in os.walk(\"HMP_DataSet/Standup_chair\"):  \n",
    "        for filename in files:\n",
    "            file_list12.append(\"HMP_DataSet/Standup_chair/\" + filename)\n",
    "    for root, dirs, files in os.walk(\"HMP_DataSet/Use_telephone\"):  \n",
    "        for filename in files:\n",
    "            file_list13.append(\"HMP_DataSet/Use_telephone/\" + filename)\n",
    "    for root, dirs, files in os.walk(\"HMP_DataSet/Walk\"):  \n",
    "        for filename in files:\n",
    "            file_list14.append(\"HMP_DataSet/Walk/\" + filename)\n",
    "    File_list = [file_list1, file_list2, file_list3, file_list4, file_list5, file_list6, file_list7, file_list8, file_list9,file_list10,file_list11,file_list12,file_list13,file_list14]\n",
    "    return File_list"
   ]
  },
  {
   "cell_type": "code",
   "execution_count": 3,
   "metadata": {},
   "outputs": [],
   "source": [
    "File_list = get_total_file()"
   ]
  },
  {
   "cell_type": "code",
   "execution_count": 4,
   "metadata": {
    "scrolled": true
   },
   "outputs": [],
   "source": [
    "def getData():\n",
    "    value_list = list()\n",
    "    data_raw_list = list()\n",
    "    for file in File_list:\n",
    "        data_list = list()\n",
    "        for s in range(len(file)):\n",
    "            data_raw = pd.read_csv(file[s], header = None, sep = ' ', dtype = float)\n",
    "            data = np.asarray(data_raw)\n",
    "            data_raw_list.append(data_raw)\n",
    "            data_list.append(data)\n",
    "        value_list.append(data_list)\n",
    "    return value_list, data_raw_list"
   ]
  },
  {
   "cell_type": "code",
   "execution_count": 5,
   "metadata": {},
   "outputs": [],
   "source": [
    "def flattenData(data_raw_list, Size:int):    \n",
    "    new_data = list()\n",
    "    for i in range(len(data_raw_list)):\n",
    "        d = np.asarray(data_raw_list[i])\n",
    "        n, m = d.shape\n",
    "        if n % Size == 0:\n",
    "            c = d.reshape(int(n/Size), int(3*Size))\n",
    "            C = pd.DataFrame(c)\n",
    "            new_data.append(C)\n",
    "        if n % Size != 0:\n",
    "            overlap = d[-Size:,]\n",
    "            remained = d[:int(Size*(n//Size)),]\n",
    "            con = np.concatenate((remained, overlap), axis=0)\n",
    "            f, x = con.shape\n",
    "            c = con.reshape(int(f/Size), int(3*Size))\n",
    "            C = pd.DataFrame(c)\n",
    "            new_data.append(C)\n",
    "    flat = pd.concat(new_data, ignore_index=True)\n",
    "    flattened_data = np.asarray(flat)\n",
    "    return flattened_data"
   ]
  },
  {
   "cell_type": "code",
   "execution_count": 6,
   "metadata": {},
   "outputs": [],
   "source": [
    "value_list, data_raw_list = getData()\n",
    "flattened_data = flattenData(data_raw_list, 32)"
   ]
  },
  {
   "cell_type": "code",
   "execution_count": 7,
   "metadata": {},
   "outputs": [],
   "source": [
    "def K_means_level1(k, flattened_data):\n",
    "    model = KMeans(n_clusters = k).fit(flattened_data)\n",
    "    l = model.predict(flattened_data)\n",
    "    return l"
   ]
  },
  {
   "cell_type": "code",
   "execution_count": 8,
   "metadata": {},
   "outputs": [],
   "source": [
    "l = K_means_level1(5, flattened_data)"
   ]
  },
  {
   "cell_type": "code",
   "execution_count": 9,
   "metadata": {},
   "outputs": [],
   "source": [
    "def K_means_level2(k, k1, l):\n",
    "    n = l.shape[0]\n",
    "    data_new = np.concatenate((flattened_data,l.reshape(n,1)),axis=1) \n",
    "    df_new = pd.DataFrame(data_new)\n",
    "    df_list = list()\n",
    "    center_list = list()\n",
    "    index_list = list()\n",
    "    for i in range(k):\n",
    "        df = df_new[df_new[96]==i].drop([96],axis=1,inplace=False)\n",
    "        df_list.append(df)\n",
    "    for k in range(len(df_list)):\n",
    "        data_k = np.asarray(df_list[k])\n",
    "        model = KMeans(n_clusters = k1).fit(data_k)\n",
    "        center_list.append(model.cluster_centers_)\n",
    "        index = model.predict(data_k)\n",
    "        for j in range(index.shape[0]):\n",
    "            index[j] = k*12 + index[j]\n",
    "        index_list.append(index)\n",
    "    return center_list, index_list"
   ]
  },
  {
   "cell_type": "code",
   "execution_count": 10,
   "metadata": {},
   "outputs": [],
   "source": [
    "center_list, index_list = K_means_level2(5, 12, l)"
   ]
  },
  {
   "cell_type": "code",
   "execution_count": 11,
   "metadata": {},
   "outputs": [],
   "source": [
    "def getInfo_cluster(center_list, index_list, flattened_data):\n",
    "    len_center = len(center_list)\n",
    "    dim_center, num_figure = center_list[0].shape\n",
    "    center_total = np.asarray(center_list).reshape(int(len_center*dim_center), num_figure)\n",
    "    number = flattened_data.shape[0]\n",
    "    index_stat = np.zeros(int(len_center*dim_center))\n",
    "    for i in range(int(len_center*dim_center)):\n",
    "        for j in range(len(index_list)):\n",
    "            for k in range(index_list[j].shape[0]):\n",
    "                if index_list[j][k] == i:\n",
    "                    index_stat[i] += 1\n",
    "    return center_total, index_stat"
   ]
  },
  {
   "cell_type": "code",
   "execution_count": 12,
   "metadata": {},
   "outputs": [],
   "source": [
    "center_total, index_stat = getInfo_cluster(center_list, index_list, flattened_data)"
   ]
  },
  {
   "cell_type": "code",
   "execution_count": 13,
   "metadata": {},
   "outputs": [
    {
     "data": {
      "text/plain": [
       "60"
      ]
     },
     "execution_count": 13,
     "metadata": {},
     "output_type": "execute_result"
    }
   ],
   "source": [
    "center_total.shape[0]"
   ]
  },
  {
   "cell_type": "code",
   "execution_count": 14,
   "metadata": {},
   "outputs": [
    {
     "data": {
      "text/plain": [
       "<BarContainer object of 60 artists>"
      ]
     },
     "execution_count": 14,
     "metadata": {},
     "output_type": "execute_result"
    },
    {
     "data": {
      "image/png": "[encoded data removed]",
      "text/plain": [
       "<Figure size 432x288 with 1 Axes>"
      ]
     },
     "metadata": {},
     "output_type": "display_data"
    }
   ],
   "source": [
    "plt.bar(range(index_stat.shape[0]), index_stat/flattened_data.shape[0])"
   ]
  },
  {
   "cell_type": "code",
   "execution_count": 15,
   "metadata": {},
   "outputs": [],
   "source": [
    "def get_train_test(value_list):\n",
    "    label_list = []\n",
    "    train = []\n",
    "    test = []\n",
    "    train_label = []\n",
    "    test_label = []\n",
    "    for i in range(len(value_list)):\n",
    "        label = []\n",
    "        for j in range(len(value_list[i])):\n",
    "            label.append(i + 1)\n",
    "        label_list.append(label)\n",
    "    for s in range(len(value_list)):\n",
    "        x_train, x_test, y_train, y_test = train_test_split(value_list[s], label_list[s], test_size = 1/3)\n",
    "        train.append(x_train)\n",
    "        train_label.append(y_train)\n",
    "        test.append(x_test)\n",
    "        test_label.append(y_test)\n",
    "    return train, test, train_label, test_label"
   ]
  },
  {
   "cell_type": "code",
   "execution_count": 18,
   "metadata": {},
   "outputs": [],
   "source": [
    "def get_CV(value_list):\n",
    "    label_list = []\n",
    "    train_1 = []\n",
    "    train_2 = []\n",
    "    train_3 = []\n",
    "    test_1 = []\n",
    "    test_2 = []\n",
    "    test_3 = []\n",
    "    train_label_1 = []\n",
    "    train_label_2 = []\n",
    "    train_label_3 = []\n",
    "    test_label_1 = []\n",
    "    test_label_2 = []\n",
    "    test_label_3 = []\n",
    "    Train = []\n",
    "    Test = []\n",
    "    Train_label = []\n",
    "    Test_label = []\n",
    "    for i in range(len(value_list)):\n",
    "        label = []\n",
    "        for j in range(len(value_list[i])):\n",
    "            label.append(i + 1)\n",
    "        label_list.append(label)\n",
    "    for s in range(len(value_list)):\n",
    "        f1 = value_list[s][0:int((1/3)*len(value_list[s]))]\n",
    "        f2 = value_list[s][int((1/3)*len(value_list[s])):2*int((1/3)*len(value_list[s]))]\n",
    "        f3 = value_list[s][2*int((1/3)*len(value_list[s])):len(value_list[s])]\n",
    "        y1 = label_list[s][0:int((1/3)*len(label_list[s]))]\n",
    "        y2 = label_list[s][int((1/3)*len(label_list[s])):2*int((1/3)*len(label_list[s]))]\n",
    "        y3 = label_list[s][2*int((1/3)*len(label_list[s])):len(label_list[s])]\n",
    "        train_1.append(f1+f2)\n",
    "        train_2.append(f1+f3)\n",
    "        train_3.append(f2+f3)\n",
    "        test_1.append(f3)\n",
    "        test_2.append(f2)\n",
    "        test_3.append(f1)\n",
    "        train_label_1.append(y1+y2)\n",
    "        train_label_2.append(y1+y3)\n",
    "        train_label_3.append(y2+y3)\n",
    "        test_label_1.append(y3)\n",
    "        test_label_2.append(y2)\n",
    "        test_label_3.append(y1)\n",
    "    Train.append(train_1)\n",
    "    Train.append(train_2)\n",
    "    Train.append(train_3)\n",
    "    Test.append(test_1)\n",
    "    Test.append(test_2)\n",
    "    Test.append(test_3)\n",
    "    Train_label.append(train_label_1)\n",
    "    Train_label.append(train_label_2)\n",
    "    Train_label.append(train_label_3)\n",
    "    Test_label.append(test_label_1)\n",
    "    Test_label.append(test_label_2)\n",
    "    Test_label.append(test_label_3)\n",
    "    return Train, Test, Train_label, Test_label"
   ]
  },
  {
   "cell_type": "code",
   "execution_count": 19,
   "metadata": {},
   "outputs": [],
   "source": [
    "def flattenData2(data, Size:int):  \n",
    "    flat = []\n",
    "    for i in range(len(data)):\n",
    "        flat_in =[]\n",
    "        for l in range(len(data[i])):\n",
    "            d = data[i][l]\n",
    "            n, m = d.shape\n",
    "            if n % Size == 0:\n",
    "                c = d.reshape(int(n/Size), int(3*Size))\n",
    "                flat_in.append(c)\n",
    "            if n % Size != 0:\n",
    "                overlap = d[-Size:,]\n",
    "                remained = d[:int(Size*(n//Size)),]\n",
    "                con = np.concatenate((remained, overlap), axis=0)\n",
    "                f, x = con.shape\n",
    "                c = con.reshape(int(f/Size), int(3*Size))\n",
    "                flat_in.append(c)\n",
    "        flat.append(flat_in)\n",
    "    return flat"
   ]
  },
  {
   "cell_type": "code",
   "execution_count": 20,
   "metadata": {},
   "outputs": [],
   "source": [
    "def make_array(data):\n",
    "    new_data = []\n",
    "    for i in range(len(data)):\n",
    "        for j in range(len(data[i])):\n",
    "            new_data.append(data[i][j])\n",
    "    data = np.asarray(new_data) \n",
    "    return data"
   ]
  },
  {
   "cell_type": "code",
   "execution_count": 21,
   "metadata": {
    "scrolled": false
   },
   "outputs": [],
   "source": [
    "def KNN_classifier(data_train, center_total):\n",
    "    KNN = KNeighborsClassifier(n_neighbors = 1) \n",
    "    n, m = center_total.shape\n",
    "    KNN.fit(center_total, range(n))\n",
    "    predict_list = []\n",
    "    for i in range(data_train.shape[0]):\n",
    "        y_pred = KNN.predict(data_train[i]) \n",
    "        predict_list.append(y_pred)\n",
    "    prediction = np.asarray(predict_list)\n",
    "    return prediction"
   ]
  },
  {
   "cell_type": "code",
   "execution_count": 22,
   "metadata": {},
   "outputs": [],
   "source": [
    "def RandomForest_classifier(data_train, center_total):\n",
    "    RF = RandomForestClassifier(n_estimators = 100, max_depth = 80)\n",
    "    n, m = center_total.shape\n",
    "    RF.fit(center_total, range(n))\n",
    "    predict_list = []\n",
    "    for i in range(data_train.shape[0]):\n",
    "        y_pred = RF.predict(data_train[i]) \n",
    "        predict_list.append(y_pred)\n",
    "    prediction = np.asarray(predict_list)\n",
    "    return prediction"
   ]
  },
  {
   "cell_type": "code",
   "execution_count": 23,
   "metadata": {},
   "outputs": [],
   "source": [
    "def generate_Mat(prediction, center_total):\n",
    "    n, m = center_total.shape\n",
    "    M = np.zeros((prediction.shape[0], n))\n",
    "    for i in range(n):\n",
    "        for j in range(prediction.shape[0]):\n",
    "            for k in range(prediction[j].shape[0]):\n",
    "                if prediction[j][k] == i:\n",
    "                    M[j][i] += 1 \n",
    "    for l in range(prediction.shape[0]):\n",
    "        q = np.sum(M[l])\n",
    "        for f in range(n):\n",
    "            M[l][f] = M[l][f]/q\n",
    "    return M"
   ]
  },
  {
   "cell_type": "code",
   "execution_count": 24,
   "metadata": {},
   "outputs": [],
   "source": [
    "def KNN_classifier_2(M_train, M_test, label_train):\n",
    "    KNN = KNeighborsClassifier(n_neighbors = 1) \n",
    "    KNN.fit(M_train, label_train)\n",
    "    y_pred = KNN.predict(M_test) \n",
    "    return y_pred"
   ]
  },
  {
   "cell_type": "code",
   "execution_count": 25,
   "metadata": {},
   "outputs": [],
   "source": [
    "def RandomForestClassifier_2(M_train, M_test, label_train):\n",
    "    RF = RandomForestClassifier(n_estimators = 100, max_depth = 80)\n",
    "    RF.fit(M_train, label_train)\n",
    "    y_pred = RF.predict(M_test) \n",
    "    return y_pred"
   ]
  },
  {
   "cell_type": "code",
   "execution_count": 26,
   "metadata": {},
   "outputs": [],
   "source": [
    "def getAccuracy(pred_RF, label_test):\n",
    "    count = 0\n",
    "    for i in range(pred_RF.shape[0]):\n",
    "        if pred_RF[i] == label_test[i]:\n",
    "            count = count + 1\n",
    "    Acc = count/pred_RF.shape[0]\n",
    "    return Acc"
   ]
  },
  {
   "cell_type": "code",
   "execution_count": 29,
   "metadata": {},
   "outputs": [],
   "source": [
    "def main():\n",
    "    File_list = get_total_file()\n",
    "    value_list, data_raw_list = getData()\n",
    "    flattened_data = flattenData(data_raw_list, 32)\n",
    "    l = K_means_level1(4, flattened_data)\n",
    "    center_list, index_list = K_means_level2(4, 12, l)\n",
    "    center_total, index_stat = getInfo_cluster(center_list, index_list, flattened_data)\n",
    "    Train, Test, Train_label, Test_label = get_CV(value_list)\n",
    "    Acc = []\n",
    "    for j in range(len(Train)):\n",
    "        train = Train[j]\n",
    "        test = Test[j]\n",
    "        train_label = Train_label[j]\n",
    "        test_label = Test_label[j]\n",
    "        data_train = make_array(flattenData2(train, 32))\n",
    "        data_test = make_array(flattenData2(test, 32))\n",
    "        label_train = make_array(train_label)\n",
    "        label_test = make_array(test_label)\n",
    "        prediction_RF = RandomForest_classifier(data_train, center_total)\n",
    "        prediction_RFtest = RandomForest_classifier(data_test, center_total)\n",
    "        M_train_RF = generate_Mat(prediction_RF, center_total)\n",
    "        M_test_RF = generate_Mat(prediction_RFtest, center_total)\n",
    "        pred_RF = RandomForestClassifier_2(M_train_RF, M_test_RF, label_train)\n",
    "        Acc.append(getAccuracy(pred_RF, label_test))\n",
    "    print(Acc)\n",
    "    return Acc"
   ]
  },
  {
   "cell_type": "code",
   "execution_count": 30,
   "metadata": {},
   "outputs": [
    {
     "name": "stdout",
     "output_type": "stream",
     "text": [
      "[0.662020905923345, 0.7608695652173914, 0.6847826086956522]\n"
     ]
    }
   ],
   "source": [
    "Acc = main()"
   ]
  },
  {
   "cell_type": "code",
   "execution_count": null,
   "metadata": {},
   "outputs": [],
   "source": []
  },
  {
   "cell_type": "code",
   "execution_count": null,
   "metadata": {},
   "outputs": [],
   "source": []
  },
  {
   "cell_type": "code",
   "execution_count": 300,
   "metadata": {},
   "outputs": [],
   "source": []
  },
  {
   "cell_type": "code",
   "execution_count": null,
   "metadata": {},
   "outputs": [],
   "source": []
  },
  {
   "cell_type": "code",
   "execution_count": null,
   "metadata": {},
   "outputs": [],
   "source": []
  },
  {
   "cell_type": "code",
   "execution_count": null,
   "metadata": {},
   "outputs": [],
   "source": []
  },
  {
   "cell_type": "code",
   "execution_count": null,
   "metadata": {},
   "outputs": [],
   "source": []
  },
  {
   "cell_type": "code",
   "execution_count": null,
   "metadata": {},
   "outputs": [],
   "source": []
  }
 ],
 "metadata": {
  "kernelspec": {
   "display_name": "Python 3",
   "language": "python",
   "name": "python3"
  },
  "language_info": {
   "codemirror_mode": {
    "name": "ipython",
    "version": 3
   },
   "file_extension": ".py",
   "mimetype": "text/x-python",
   "name": "python",
   "nbconvert_exporter": "python",
   "pygments_lexer": "ipython3",
   "version": "3.6.5"
  }
 },
 "nbformat": 4,
 "nbformat_minor": 2
}
